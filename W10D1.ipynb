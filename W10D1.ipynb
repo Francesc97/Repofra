{
 "cells": [
  {
   "cell_type": "code",
   "execution_count": 11,
   "id": "2b7055da-df9b-43cc-b1ec-5b9cf183a927",
   "metadata": {},
   "outputs": [
    {
     "name": "stdout",
     "output_type": "stream",
     "text": [
      "0\n",
      "8\n",
      "14\n",
      "5\n"
     ]
    }
   ],
   "source": [
    "#Abbiamo una lista di liste: \n",
    "mat = [[0, 1, 2, 3, 4],\n",
    "       [5, 6, 7, 8, 9], \n",
    "       [10, 11, 12, 13, 14]] \n",
    "#Che tipo di struttura dati o matematica potrebbe rappresentare? UNA MATRICE\n",
    "#Notare che tutte le liste \"interne\" sono della stessa dimensione \n",
    "#Come facciamo per accedere ad un elemento in particolare?\n",
    "\n",
    "# mat[indice riga][indice colonna]\n",
    "print(mat[0][0])  \n",
    "print(mat[1][3])  \n",
    "print(mat[2][4])\n",
    "print(mat[1][0])  "
   ]
  },
  {
   "cell_type": "code",
   "execution_count": 20,
   "id": "8f598803-6595-4d01-8bd8-db221494f88e",
   "metadata": {},
   "outputs": [
    {
     "name": "stdout",
     "output_type": "stream",
     "text": [
      "-0.3048106211022167\n",
      "-0.9524129804151563\n",
      "3628800\n",
      "3.141592653589793\n"
     ]
    }
   ],
   "source": [
    "#Importiamo il modulo math e proviamo a usare le funzioni .sin() .cos() .factorial().\n",
    "#e la variabile .pi la riconoscete?\n",
    "import math\n",
    "print(math.sin(60))\n",
    "print(math.cos(60))\n",
    "print(math.factorial(10))\n",
    "\n",
    "print(math.pi)"
   ]
  },
  {
   "cell_type": "code",
   "execution_count": 23,
   "id": "02f4b582-230a-418e-985a-41b225ac8d86",
   "metadata": {},
   "outputs": [
    {
     "name": "stdout",
     "output_type": "stream",
     "text": [
      "180.0\n",
      "Help on built-in function degrees in module math:\n",
      "\n",
      "degrees(x, /)\n",
      "    Convert angle x from radians to degrees.\n",
      "\n"
     ]
    }
   ],
   "source": [
    "#Proviamo a eseguire math.degrees(math.pi) \n",
    "#Qual è e cosa significa il risultato? \n",
    "#Per saperne di più su questa funzione possiamo usare help(math.degrees)\n",
    "\n",
    "print(math.degrees(math.pi))\n",
    "help(math.degrees)\n",
    "\n",
    "#math.degrees(math.pi) la funzione converte un angolo da radianti in gradi. Utilizzando pi greco come variabile otteniamo 180, poichè pi greco rappresenta 180° in radianti"
   ]
  },
  {
   "cell_type": "code",
   "execution_count": 46,
   "id": "675ba4d6-e0fc-4c46-88a8-5e04da9b5928",
   "metadata": {},
   "outputs": [
    {
     "name": "stdout",
     "output_type": "stream",
     "text": [
      "8150\n",
      "1280\n",
      "[False  True  True False False False False False  True  True  True  True]\n",
      "[5500 7200 6410 8150 7100 5350]\n",
      "12\n",
      "[2000 1280 1900 2500]\n",
      "12\n"
     ]
    }
   ],
   "source": [
    "#L'azienda Object SpA ha creato una lista di quanti oggetti ha venduto ogni mese nell'ultimo anno: \n",
    "lst = [2000, 5500, 7200, 4320, 1280, 1900, 2500, 3900, 6410, 8150, 7100, 5350] \n",
    "import numpy as np\n",
    "#trasformiamola in un array NumPy \n",
    "lst = np.array(lst)  #casting\n",
    "\n",
    "#e rispondiamo alle domande del CEO della Object SpA: \n",
    "#qual è stata la vendita massima mensile? E quella minima? \n",
    "vendita_massima =np.max(lst)\n",
    "vendita_minima = np.min(lst)\n",
    "print(vendita_massima)\n",
    "print(vendita_minima)\n",
    "#quali sono le vendite mensili maggiori di 4999 oggetti? \n",
    "vendite_maggiori = lst > 4999\n",
    "print(vendite_maggiori)\n",
    "print(lst[vendite_maggiori])\n",
    "#E quante ne sono? \n",
    "print(vendite_maggiori.size)   #?\n",
    "#quali sono le vendite minori di 3000 oggetti?\n",
    "vendite_minori = lst < 3000\n",
    "print(lst[vendite_minori])\n",
    "print(len(vendite_minori))   #?"
   ]
  },
  {
   "cell_type": "code",
   "execution_count": null,
   "id": "28b8c622-2aa3-4ef0-af02-020edb749b7c",
   "metadata": {},
   "outputs": [],
   "source": [
    "#Consideriamo il seguente dizionario: \n",
    "fatturati_dict = {1997: 12_000, 1998: 15_000, 1999: 20_000, 2000: 23_000, 2001: 25_000, 2002: 17_000, 2003: 14_000, 2004: 21_000} \n",
    "#Consideriamo ora la seguente Series: \n",
    "fatturati_series = pd.Series([12_000, 15_000, 20_000, 23_000, 25_000, 17_000, 14_000, 21_000], \n",
    "                             index=range(1997, 2005)) \n",
    "#Possiamo accedere alle stesse informazioni nello stesso modo: \n",
    "fatturati_dict[1997] \n",
    "fatturati_series[1997] \n",
    "#Dunque qual è la differenza tra i due tipi di dato? \n",
    "#            R:#Sulle series si possono effettuare operazioni matematiche rapide su tutti gli elementi, cosa che non dizionario è possibile solo con un ciclo\n",
    "#Cosa potremmo fare con la Series che non possiamo fare con il dizionario?\n"
   ]
  },
  {
   "cell_type": "code",
   "execution_count": 49,
   "id": "05a75ac9-799e-42f6-8ec1-5107d310cdb9",
   "metadata": {},
   "outputs": [
    {
     "name": "stdout",
     "output_type": "stream",
     "text": [
      "200\n",
      "400\n",
      "600\n",
      "800\n",
      "1000\n",
      "1200\n",
      "1400\n",
      "1600\n",
      "1800\n",
      "2000\n",
      "[ 200  400  600  800 1000 1200 1400 1600 1800 2000]\n"
     ]
    }
   ],
   "source": [
    "#L'azienda Object SpA ha un dataset con tutti gli stipendi dei dipendenti, \n",
    "#memorizzato in un ndarray: \n",
    "import numpy as np \n",
    "stipendi = np.array( [100, 200, 300, 400, 500,  600, 700, 800, 900, 1000] ) \n",
    "#L'azienda ci chiede di raddoppiare tutti gli stipendi; facciamolo in due modi: \n",
    "#con un ciclo for \n",
    "for stipendio in stipendi:\n",
    "    stipendio_raddoppiato = stipendio*2\n",
    "    print(stipendio_raddoppiato)\n",
    "\n",
    "#con il masking\n",
    "print(stipendi*2)"
   ]
  }
 ],
 "metadata": {
  "kernelspec": {
   "display_name": "Python [conda env:base] *",
   "language": "python",
   "name": "conda-base-py"
  },
  "language_info": {
   "codemirror_mode": {
    "name": "ipython",
    "version": 3
   },
   "file_extension": ".py",
   "mimetype": "text/x-python",
   "name": "python",
   "nbconvert_exporter": "python",
   "pygments_lexer": "ipython3",
   "version": "3.12.7"
  }
 },
 "nbformat": 4,
 "nbformat_minor": 5
}
