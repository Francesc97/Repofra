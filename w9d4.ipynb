{
 "cells": [
  {
   "cell_type": "code",
   "execution_count": null,
   "id": "e0c3df11-a496-4806-9b00-add6e27ca14d",
   "metadata": {},
   "outputs": [],
   "source": [
    "#1\n",
    "nome_scuola = \"Epicode\" \n",
    "#Stampare ogni carattere della stringa, uno su ogni riga, utilizzando un costrutto while\n",
    "lungh = len(nome_scuola)\n",
    "cont = 0\n",
    "while cont < lungh:    #condizione\n",
    "    print(nome_scuola[cont])\n",
    "    cont += 1    #aggiornamento"
   ]
  },
  {
   "cell_type": "code",
   "execution_count": null,
   "id": "baf12806-20c9-47c3-832a-b84d4ed38e61",
   "metadata": {},
   "outputs": [],
   "source": [
    "#2\n",
    "#Stampare a video tutti i numeri da 0 a 20 utilizzando il costrutto while\n",
    "numero = 0     #inizializzazione\n",
    "while numero <= 20:\n",
    "    print(numero)\n",
    "    numero +=1    #ci assicura che il ciclo finisca\n",
    "\n"
   ]
  },
  {
   "cell_type": "code",
   "execution_count": null,
   "id": "10585a14-de2f-4a43-afab-47f5f6045671",
   "metadata": {},
   "outputs": [],
   "source": [
    "#3\n",
    "#Calcolare e stampare tutte le prime 10 potenze di 2 \n",
    "#(e.g., 2⁰, 2¹, 2², …) utilizzando un ciclo while\n",
    "potenza = 0\n",
    "while potenza <= 9:\n",
    "    print(2**potenza)\n",
    "    potenza += 1"
   ]
  },
  {
   "cell_type": "code",
   "execution_count": null,
   "id": "5be93709-0f1c-4459-8bf1-4bcddb75a622",
   "metadata": {},
   "outputs": [],
   "source": [
    "#4\n",
    "#Calcolare e stampare tutte le prime N potenze di 2 \n",
    "#utilizzando un ciclo while, domandando all'utente di inserire N\n",
    "potenza = 0\n",
    "while potenza <= 9:    \n",
    "    potenza = input(\"Inserisci una potenza\")\n",
    "    potenza = int(potenza)    #casting\n",
    "    print(2**potenza)\n",
    "    potenza += 1"
   ]
  },
  {
   "cell_type": "code",
   "execution_count": null,
   "id": "bfec9c7e-e493-4687-ac65-757c9eb1ba7b",
   "metadata": {},
   "outputs": [],
   "source": [
    "#5\n",
    "#Calcolare e stampare tutte le potenze di 2 minori di 25000.\n",
    "esponente = 0\n",
    "limite = 25000\n",
    "while 2**esponente < limite:\n",
    "    print(2**esponente)\n",
    "    esponente +=1"
   ]
  },
  {
   "cell_type": "code",
   "execution_count": 1,
   "id": "dd1edd0f-fd54-4eb0-88a0-eb319f644bc3",
   "metadata": {},
   "outputs": [
    {
     "name": "stdin",
     "output_type": "stream",
     "text": [
      "Scrivi una parola: topora\n"
     ]
    },
    {
     "name": "stdout",
     "output_type": "stream",
     "text": [
      "top...ora\n"
     ]
    }
   ],
   "source": [
    "#6\n",
    "#Scriviamo un programma che chiede in input all'utente \n",
    "#una stringa e visualizza i primi 3 caratteri, \n",
    "#seguiti da 3 punti di sospensione e quindi gli ultimi 3 caratteri, \n",
    "#similmente all'esercizio della lezione scorsa.\n",
    "#Stavolta facciamo attenzione a tutti i casi particolari, \n",
    "#ovvero implementare soluzioni ad hoc per stringhe di lunghezza \n",
    "#inferiore a 6 caratteri.\n",
    "parola = input(\"Scrivi una parola:\")\n",
    "if len(parola) >= 6:\n",
    "  print(parola[0:3] + \"...\" + parola[-3:])\n",
    "else:\n",
    "  print(parola[0:1] + \"...\" + parola[-1:])\n"
   ]
  },
  {
   "cell_type": "code",
   "execution_count": 3,
   "id": "95091ddf-4544-42b2-9f66-3814a732fa7a",
   "metadata": {},
   "outputs": [
    {
     "name": "stdin",
     "output_type": "stream",
     "text": [
      "Inserisci un numero intero positivo:  255\n"
     ]
    },
    {
     "name": "stdout",
     "output_type": "stream",
     "text": [
      "Fattori primi: [3, 5, 17]\n"
     ]
    }
   ],
   "source": [
    "#7\n",
    "#Memorizza e stampa tutti i fattori di un numero dato in input \n",
    "#(cioè tutti i numeri primi che, moltiplicati tra di loro, danno il numero di partenza)\n",
    "\n",
    "numero = int(input(\"Inserisci un numero intero positivo: \"))\n",
    "\n",
    "fattori_primi = []\n",
    "\n",
    "while numero % 2 == 0:\n",
    "    fattori_primi.append(2)\n",
    "    numero //= 2\n",
    "\n",
    "divisore = 3\n",
    "while numero > 1 and divisore * divisore <= numero:\n",
    "    while numero % divisore == 0:\n",
    "        fattori_primi.append(divisore)\n",
    "        numero //= divisore\n",
    "    divisore += 2\n",
    "\n",
    "if numero > 1:\n",
    "    fattori_primi.append(numero)\n",
    "\n",
    "print(\"Fattori primi:\", fattori_primi)\n"
   ]
  },
  {
   "cell_type": "code",
   "execution_count": 7,
   "id": "7c543f36-2b6b-4b1c-a944-198f71d8e741",
   "metadata": {},
   "outputs": [
    {
     "name": "stdout",
     "output_type": "stream",
     "text": [
      "E\n",
      "p\n",
      "i\n",
      "c\n",
      "o\n",
      "d\n",
      "e\n"
     ]
    }
   ],
   "source": [
    "#8\n",
    "#Stampare ogni carattere della stringa, uno su ogni riga, \n",
    "#utilizzando un costrutto for.\n",
    "nome_scuola = \"Epicode\"\n",
    "for lettera in nome_scuola:\n",
    "  print(lettera)"
   ]
  },
  {
   "cell_type": "code",
   "execution_count": 5,
   "id": "e1cc7f58-9c7a-4fab-962b-0251c3940188",
   "metadata": {},
   "outputs": [
    {
     "name": "stdout",
     "output_type": "stream",
     "text": [
      "1\n",
      "2\n",
      "4\n",
      "8\n",
      "16\n",
      "32\n",
      "64\n",
      "128\n",
      "256\n",
      "512\n"
     ]
    }
   ],
   "source": [
    "#9\n",
    "#Calcolare e stampare tutte le prime 10 potenze di 2 utilizzando un ciclo.\n",
    "for esponente in range(10):\n",
    "  print(2**esponente)"
   ]
  },
  {
   "cell_type": "code",
   "execution_count": 2,
   "id": "857abc90-d814-4e07-8316-36f11196e06a",
   "metadata": {},
   "outputs": [
    {
     "name": "stdin",
     "output_type": "stream",
     "text": [
      "Inserisci la base (K):  2\n",
      "Quante potenze vuoi calcolare (N)?  0\n"
     ]
    },
    {
     "name": "stdout",
     "output_type": "stream",
     "text": [
      "Potenze calcolate: []\n"
     ]
    }
   ],
   "source": [
    "#10\n",
    "#Calcolare (ma non stampare) le prime N potenze di K;\n",
    "#ognuna di esse andrà memorizzata in coda a una lista. \n",
    "#Alla fine, stampare la lista risultante. Proviamo con diversi valori di K, oppure facciamola inserire all'utente. \n",
    "#Realizzare due versioni: con un ciclo while \n",
    "\n",
    "K = int(input(\"Inserisci la base (K): \"))\n",
    "N = int(input(\"Quante potenze vuoi calcolare (N)? \"))\n",
    "\n",
    "potenze = []\n",
    "i = 0\n",
    "while i < N:\n",
    "    potenze.append(K ** i)\n",
    "    i += 1\n",
    "\n",
    "print(\"Potenze calcolate:\", potenze)"
   ]
  },
  {
   "cell_type": "code",
   "execution_count": null,
   "id": "0b4f4974-e659-4b71-9670-714b8c4d0c78",
   "metadata": {},
   "outputs": [],
   "source": [
    "#e con un ciclo for\n",
    "\n",
    "K = int(input(\"Inserisci la base (K): \"))\n",
    "N = int(input(\"Quante potenze vuoi calcolare (N)? \"))\n",
    "\n",
    "potenze = []\n",
    "for i in range(N):\n",
    "    potenze.append(K ** i)\n",
    "\n",
    "print(\"Potenze calcolate:\", potenze)"
   ]
  },
  {
   "cell_type": "code",
   "execution_count": null,
   "id": "a47fc98a-74df-4c0b-9407-e9e828547aa7",
   "metadata": {},
   "outputs": [],
   "source": [
    "#11\n",
    "#Abbiamo una lista con i guadagni degli ultimi 12 mesi: \n",
    "guadagni = [100, 90, 70, 40, 50, 80, 90, 120, 80, 20, 50, 50] \n",
    "#usando un costrutto for, calcolare la media dei guadagni e stamparla a video.\n",
    "\n",
    "for guadagno in guadagni:\n",
    "  media = sum(guadagni)/12\n",
    "print(media)"
   ]
  },
  {
   "cell_type": "code",
   "execution_count": 4,
   "id": "52dbd309-a849-4530-b3c1-e0c15ad42ffb",
   "metadata": {},
   "outputs": [
    {
     "name": "stdout",
     "output_type": "stream",
     "text": [
      "['albergo', 'sedia', 'borgo', 'petalo', 'eremo', 'belvedere', 'semestre', 'esteta', 'sosta', 'orpello', 'abete', 'orologio', 'cesta', 'ermellino']\n",
      "1\n",
      "1\n",
      "0\n",
      "1\n",
      "2\n",
      "4\n",
      "3\n",
      "2\n",
      "0\n",
      "1\n",
      "2\n",
      "0\n",
      "1\n",
      "2\n"
     ]
    }
   ],
   "source": [
    "#12\n",
    "#Abbiamo una lista di parole: \n",
    "parole = [\"Albergo\", \"Sedia\", \"Borgo\", \"Petalo\", \"Eremo\", \"Belvedere\", \"Semestre\", \"Esteta\", \"Sosta\", \"Orpello\", \"Abete\", \"Orologio\", \"Cesta\", \"Ermellino\"] \n",
    "#stampiamo, per ogni parola, quante volte appare la lettera \"e\"; facciamo attenzione al fatto che appare sia maiuscola che minuscola.\n",
    "\n",
    "list = [parola.lower() for parola in parole]\n",
    "print(list)\n",
    "\n",
    "lettera = \"e\"\n",
    "for parola in list:\n",
    "    print(parola.count(lettera))"
   ]
  },
  {
   "cell_type": "code",
   "execution_count": null,
   "id": "983b46cb-a075-4edc-b6ce-128e36728d2e",
   "metadata": {},
   "outputs": [],
   "source": [
    "#13\n",
    "#Creiamo un dizionario che assegni ad ogni proprietario la sua auto, sapendo che: \n",
    "#• Ada guida una Punto \n",
    "#• Ben guida una Multipla \n",
    "#• Charlie guida una Golf \n",
    "#• Debbie guida una 107 \n",
    "#Stampiamo il dizionario per intero, e poi l'auto associata a Debbie.\n",
    "\n",
    "dict = {\"Ada\" : \"Punto\",\n",
    "       \"Ben\" : \"Multipla\",\n",
    "       \"Charlie\" : \"Golf\",\n",
    "\"Debbie\" : \"107\"}\n",
    "print(dict)\n",
    "print(dict.get(\"Debbie\"))"
   ]
  },
  {
   "cell_type": "code",
   "execution_count": 3,
   "id": "dce0fc39-1977-4e95-b5ee-266106cf7d87",
   "metadata": {},
   "outputs": [
    {
     "name": "stdout",
     "output_type": "stream",
     "text": [
      "Punto\n",
      "Golf\n",
      "107\n"
     ]
    }
   ],
   "source": [
    "#14\n",
    "#Abbiamo un dizionario che assegna ad ogni proprietario la sua auto: \n",
    "dizionario_auto = {\"Ada\": \"Punto\", \"Ben\": \"Multipla\", \"Charlie\": \"Golf\", \"Debbie\": \"107\"} \n",
    "#Con un ciclo, e usando il metodo .values(), stampiamo a video tutte le auto che non sono una Multipla.\n",
    "\n",
    "for auto in dizionario_auto.values():\n",
    "    if auto != \"Multipla\":\n",
    "        print(auto)\n"
   ]
  },
  {
   "cell_type": "code",
   "execution_count": 2,
   "id": "dd6ce1b5-0292-4cb4-a7c7-256856d93d57",
   "metadata": {},
   "outputs": [
    {
     "name": "stdout",
     "output_type": "stream",
     "text": [
      "{'Ada': 'Punto', 'Ben': 'Polo', 'Charlie': 'Golf', 'Debbie': '107', 'Emily': 'A1', 'Fred': 'Octavia', 'Grace': 'Yaris', 'Hugh': 'Clio'}\n"
     ]
    }
   ],
   "source": [
    "#15\n",
    "#Abbiamo due dizionari che assegnano ad ogni proprietario la propria auto:\n",
    "dizionario_auto = {\"Ada\": \"Punto\", \"Ben\": \"Multipla\", \"Charlie\": \"Golf\", \"Debbie\": \"107\", \"Emily\": \"A1\"} \n",
    "nuovi_proprietari = {\"Ben\": \"Polo\", \"Fred\": \"Octavia\", \"Grace\": \"Yaris\", \"Hugh\": \"Clio\"} \n",
    "#Aggiornare il dizionario dizionario_auto con i dati contenuti in nuovi_proprietari e stamparlo. \n",
    "#Cosa è successo a Ben?\n",
    "\n",
    "dizionario_auto.update(nuovi_proprietari)\n",
    "print(dizionario_auto)"
   ]
  }
 ],
 "metadata": {
  "kernelspec": {
   "display_name": "Python [conda env:base] *",
   "language": "python",
   "name": "conda-base-py"
  },
  "language_info": {
   "codemirror_mode": {
    "name": "ipython",
    "version": 3
   },
   "file_extension": ".py",
   "mimetype": "text/x-python",
   "name": "python",
   "nbconvert_exporter": "python",
   "pygments_lexer": "ipython3",
   "version": "3.12.7"
  }
 },
 "nbformat": 4,
 "nbformat_minor": 5
}
