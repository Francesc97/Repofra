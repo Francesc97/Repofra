{
 "cells": [
  {
   "cell_type": "markdown",
   "id": "b2c4e1cb-4366-46e0-84c2-28ab69cae8e2",
   "metadata": {
    "jp-MarkdownHeadingCollapsed": true
   },
   "source": [
    "# TASK 1 \n",
    "## Portare fuori il cane\n",
    "Prendere il guinzaglio\n",
    "\n",
    "Avvicinarsi al cane\n",
    "\n",
    "Agganciare il guinzaglio al collare\n",
    "\n",
    "Uscire di casa"
   ]
  },
  {
   "cell_type": "markdown",
   "id": "19be4359-66af-4645-ab2a-d4fbd23e209d",
   "metadata": {},
   "source": [
    "# TASK 2\n",
    "# Fare la spesa\n",
    "Controllare il frigo e la dispensa\n",
    "\n",
    "Scrivere una lista del necessario da acquistare\n",
    "\n",
    "Vestirsi\n",
    "\n",
    "Prendare il portafogli\n",
    "\n",
    "Uscire di casa\n",
    "\n",
    "Camminare fino al supermercato\n",
    "\n",
    "Entrare nel supermercato\n",
    "\n",
    "Prendere il carrello\n",
    "\n",
    "Prendere ciò che è presente sulla lista\n",
    "\n",
    "Dirigersi in cassa\n",
    "\n",
    "Attendere in coda\n",
    "\n",
    "Mettere i prodotti sul nastro\n",
    "\n",
    "Pagare\n",
    "\n",
    "Imbustare la spesa\n",
    "\n",
    "Uscire dal supermercato"
   ]
  },
  {
   "cell_type": "markdown",
   "id": "d049f849-a0d6-40b1-86bc-03f37f871746",
   "metadata": {},
   "source": [
    "# task 3\n",
    "## Andare a calcetto\n",
    "1. Aprire l'armadio\n",
    "\n",
    "2. Prendere il borsone\n",
    "\n",
    "3. Andare al cassetto\n",
    "\n",
    "4. Aprire il primo cassetto\n",
    "\n",
    "5. Prendere maglietta, pantalone, calzettoni\n",
    "\n",
    "6. Chiudere cassetto\n",
    "\n",
    "7. Aprire secondo cassetto\n",
    "\n",
    "8. Prendere roba intima\n",
    "\n",
    "9. Punto 6\n",
    "\n",
    "10. Mettere tutto nel borsone\n",
    "\n",
    "11. Prendere chiavi e portafogli\n",
    "\n",
    "12. Prendere borsone\n",
    "\n",
    "13. Uscire di casa\n",
    "\n",
    "14. Andare all'auto\n",
    "\n",
    "15. Entrare in auto\n",
    "\n",
    "16. Accendere il navigatore\n",
    "\n",
    "17. Immetere destinazione campo\n",
    "\n",
    "18. Mettere in moto l'auto\n",
    "\n",
    "19. Partire\n",
    "\n",
    "20. Seguire indicazioni del navigatore\n",
    "\n",
    "21. Arrivo al campo \n",
    "\n",
    "\n",
    "\n"
   ]
  },
  {
   "cell_type": "code",
   "execution_count": 16,
   "id": "504d7071-5fc4-4316-9b5b-16cdbaa905ae",
   "metadata": {},
   "outputs": [
    {
     "name": "stdout",
     "output_type": "stream",
     "text": [
      "25\n"
     ]
    }
   ],
   "source": [
    "#Abbiamo 25 studenti; memorizzare questo dato in una variabile.\n",
    "numero_studenti = 25\n",
    "print(numero_studenti)"
   ]
  },
  {
   "cell_type": "code",
   "execution_count": 19,
   "id": "16ff0322-9778-4cdf-a248-9ae7187ff41f",
   "metadata": {},
   "outputs": [
    {
     "name": "stdout",
     "output_type": "stream",
     "text": [
      "28\n"
     ]
    }
   ],
   "source": [
    "#Arrivano altri 3 studenti; memorizzare questo dato in un'altra variabile.\n",
    "nuovi_studenti = 3\n",
    "#Creare un'altra variabile ancora che conterrà \n",
    "#la somma delle prime due, poi stamparla a video.\n",
    "totale_studenti = numero_studenti + nuovi_studenti\n",
    "print(totale_studenti)"
   ]
  },
  {
   "cell_type": "code",
   "execution_count": 6,
   "id": "ec119958-a818-4712-a5dc-c1b1b69c31ed",
   "metadata": {},
   "outputs": [
    {
     "name": "stdout",
     "output_type": "stream",
     "text": [
      "Epicode\n"
     ]
    }
   ],
   "source": [
    "scuola = \"Epicode\"\n",
    "print(scuola)"
   ]
  },
  {
   "cell_type": "code",
   "execution_count": 18,
   "id": "a71c0b14-5a4a-46cc-9579-2c127b210341",
   "metadata": {},
   "outputs": [
    {
     "name": "stdout",
     "output_type": "stream",
     "text": [
      "36\n"
     ]
    }
   ],
   "source": [
    "# x= 10. Incrementarla di 2 e poi moltiplicarla per 3\n",
    "x = 10\n",
    "y = x + 2\n",
    "print(y*3)"
   ]
  },
  {
   "cell_type": "code",
   "execution_count": 24,
   "id": "70bfce9d-7826-4907-abfd-d170f8b0c92f",
   "metadata": {},
   "outputs": [
    {
     "name": "stdout",
     "output_type": "stream",
     "text": [
      "7\n",
      "5\n",
      "10\n",
      "4\n"
     ]
    }
   ],
   "source": [
    "#Creiamo le seguenti stringhe, e per ognuna di esse \n",
    "#verifichiamone la lunghezza con la funzione len():\n",
    "#str1 = \"Windows\"  str2 = \"Excel\" \n",
    "#str3 = \"Powerpoint\" • str4 = \"Word\"\n",
    "sistema= \"Windows\"\n",
    "print(len(sistema))\n",
    "programma = \"excel\"\n",
    "numero_caratteri = len(programma)\n",
    "print(numero_caratteri)\n",
    "programma = \"Powerpoint\"\n",
    "print(len(programma))\n",
    "str4 = \"Word\"\n",
    "print(len(str4))"
   ]
  },
  {
   "cell_type": "code",
   "execution_count": 41,
   "id": "f9066779-b39c-42cb-82db-60086ed865e7",
   "metadata": {},
   "outputs": [
    {
     "name": "stdout",
     "output_type": "stream",
     "text": [
      "31536000\n"
     ]
    }
   ],
   "source": [
    "#Calcolare e stampare a video quanti secondi \n",
    "#ci sono in un anno non bisestile\n",
    "secondi_ora=3600\n",
    "ore_giorno=24\n",
    "giorni=365\n",
    "print(secondi_ora*ore_giorno*giorni)"
   ]
  },
  {
   "cell_type": "code",
   "execution_count": 35,
   "id": "642470f4-5fc6-44b3-8651-6cce8236d737",
   "metadata": {},
   "outputs": [
    {
     "name": "stdout",
     "output_type": "stream",
     "text": [
      "I AM STUDYING PYTHON\n",
      "i am studying python\n",
      "I am studying a lot\n",
      "I am studying Python\n",
      "['I', 'am', 'studying', 'Python']\n"
     ]
    }
   ],
   "source": [
    "my_string = \"I am studying Python\"\n",
    "#uppercase\n",
    "print(my_string.upper())\n",
    "#lowercase\n",
    "print(my_string.lower())\n",
    "#Sostituire la sottostringa \"Python\" con la stringa \"a lot\"\n",
    "print(my_string.replace(\"Python\", \"a lot\"))\n",
    "#Usare il metodo .strip()\n",
    "print(my_string.strip())  #non abbiamo spazi all'inizio e alla fine\n",
    "#Usare il metodo .split() \n",
    "print(my_string.split())"
   ]
  },
  {
   "cell_type": "code",
   "execution_count": 40,
   "id": "71bcdb15-6507-4a26-98b8-76fd59f5cabd",
   "metadata": {},
   "outputs": [
    {
     "name": "stdout",
     "output_type": "stream",
     "text": [
      "['Cybersecurity', 'Data Analyst', 'Backend', 'Frontend', 'Data Analyst', 'Backend', 'Frontend', 'Cybersecurity']\n"
     ]
    }
   ],
   "source": [
    "#Abbiamo due liste, una di studenti e una di corsi: \n",
    "#studenti = [\"Alex\", \"Bob\", \"Cindy\", \"Dan\", \"Emma\", \"Faith\", \"Grace\", \"Henry\"] \n",
    "#corsi = [\"Cybersecurity\", \"Data Analyst\", \"Backend\", \"Frontend\", \"Data Analyst\", \"Backend\"]\n",
    "studenti = [\"Alex\", \"Bob\", \"Cindy\", \"Dan\", \"Emma\", \"Faith\", \"Grace\", \"Henry\"] \n",
    "corsi = [\"Cybersecurity\", \"Data Analyst\", \"Backend\", \"Frontend\", \"Data Analyst\", \"Backend\"]\n",
    "corsi.append(\"Frontend\")\n",
    "corsi.append(\"Cybersecurity\")\n",
    "print(corsi)"
   ]
  }
 ],
 "metadata": {
  "kernelspec": {
   "display_name": "Python [conda env:base] *",
   "language": "python",
   "name": "conda-base-py"
  },
  "language_info": {
   "codemirror_mode": {
    "name": "ipython",
    "version": 3
   },
   "file_extension": ".py",
   "mimetype": "text/x-python",
   "name": "python",
   "nbconvert_exporter": "python",
   "pygments_lexer": "ipython3",
   "version": "3.12.7"
  }
 },
 "nbformat": 4,
 "nbformat_minor": 5
}
